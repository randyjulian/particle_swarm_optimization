{
 "cells": [
  {
   "cell_type": "code",
   "execution_count": null,
   "metadata": {},
   "outputs": [],
   "source": [
    "import numpy as np\n",
    "import math\n",
    "from statistics import mean,stdev\n",
    "import matplotlib.pyplot as plt\n",
    "from sklearn.externals import joblib\n",
    "import pandas as pd"
   ]
  },
  {
   "cell_type": "code",
   "execution_count": null,
   "metadata": {},
   "outputs": [],
   "source": [
    "def save_res(fn_name):\n",
    "    cost=joblib.load(v1,'submission/table dimension files/{}_10k_cost.pkl'.format(fn_name))\n",
    "    it=joblib.load(v2,'submission/table dimension files/{}_10k_it.pkl'.format(fn_name))\n",
    "    d_avg=joblib.load(v3,'submission/table dimension files/{}_10k_d_avg.pkl'.format(fn_name))\n",
    "    d_max=joblib.load(v4,'submission/table dimension files/{}_10k_d_max.pkl'.format(fn_name))"
   ]
  },
  {
   "cell_type": "code",
   "execution_count": null,
   "metadata": {},
   "outputs": [],
   "source": [
    "## key in each array and copy it to an excel file manually\n",
    "save_res(\"sphere\")\n",
    "dict_=pd.DataFrame.from_dict(cost)\n",
    "pd.DataFrame([dict_.apply(lambda x: mean(x)),dict_.apply(lambda x: stdev(x))]).T"
   ]
  }
 ],
 "metadata": {
  "kernelspec": {
   "display_name": "Python 3",
   "language": "python",
   "name": "python3"
  },
  "language_info": {
   "codemirror_mode": {
    "name": "ipython",
    "version": 3
   },
   "file_extension": ".py",
   "mimetype": "text/x-python",
   "name": "python",
   "nbconvert_exporter": "python",
   "pygments_lexer": "ipython3",
   "version": "3.6.5"
  }
 },
 "nbformat": 4,
 "nbformat_minor": 2
}
